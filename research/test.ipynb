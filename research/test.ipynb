{
  "cells": [
    {
      "cell_type": "markdown",
      "metadata": {},
      "source": [
        "# Tasks \n",
        "* fonts \n",
        "    - en \n",
        "    - ar\n",
        "    - import \n",
        "* search \n",
        "    - debug\n",
        "    - tests\n",
        "* login\n",
        "* env \n",
        "* full form \n",
        "    - bug\n",
        "        - form state\n",
        "        - images \n"
      ]
    },
    {
      "cell_type": "markdown",
      "metadata": {},
      "source": [
        "## last\n",
        "* clean cash\n",
        "* malti upload files \n",
        "* full form  \n",
        "    - icon \n",
        "    - replace \n",
        "        - icon\n",
        "        - apk\n",
        "    - Verify data  \n",
        "        - view \n",
        "        - logic\n"
      ]
    }
  ],
  "metadata": {
    "language_info": {
      "name": "python"
    },
    "orig_nbformat": 4
  },
  "nbformat": 4,
  "nbformat_minor": 2
}
